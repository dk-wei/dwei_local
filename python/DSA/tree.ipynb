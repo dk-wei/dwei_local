{
 "cells": [
  {
   "cell_type": "markdown",
   "metadata": {},
   "source": [
    "# initialte a tree"
   ]
  },
  {
   "cell_type": "markdown",
   "metadata": {},
   "source": [
    "- 推荐视频\n",
    "1. take u forward\n",
    "2. Vivekanand - Algorithm Every Day\n",
    "\n",
    "- 配合食用：\n",
    "\n",
    "https://docs.google.com/spreadsheets/d/15hUq0deBQxFYfU5z0YGh82tILUvCOPpi/edit#gid=1270736061"
   ]
  },
  {
   "cell_type": "code",
   "execution_count": 121,
   "metadata": {},
   "outputs": [],
   "source": [
    "class TreeNode:\n",
    "   def __init__(self, val):\n",
    "      self.left = None\n",
    "      self.right = None\n",
    "      self.val = val\n",
    "\n",
    "# build a tree\n",
    "root = TreeNode(10)\n",
    "root.left = TreeNode(34)\n",
    "root.right = TreeNode(89)\n",
    "root.right.right = TreeNode(90)\n",
    "root.left.left = TreeNode(-45)\n",
    "root.left.right = TreeNode(-80)\n",
    "root.left.left.right = TreeNode(2)\n",
    "root.left.right.left = TreeNode(55)\n",
    "root.left.right.right = TreeNode(60)\n",
    "root.right.right.right = TreeNode(100)\n",
    "root.right.right.right.right = TreeNode(150)\n",
    "root.right.right.right.right.right = TreeNode(160)\n",
    "root.right.right.right.right.left = TreeNode(180)\n",
    "\n",
    "#                   10\n",
    "#            34          89\n",
    "#   -45       -80            90 \n",
    "#       2   55    60             100\n",
    "#                                    150\n",
    "#                                 180    160"
   ]
  },
  {
   "cell_type": "markdown",
   "metadata": {},
   "source": [
    "# Traverse"
   ]
  },
  {
   "cell_type": "code",
   "execution_count": 93,
   "metadata": {},
   "outputs": [
    {
     "data": {
      "text/plain": [
       "[10, 34, -45, 2, -80, 55, 60, 89, 90, 100, 150, 180, 160]"
      ]
     },
     "execution_count": 93,
     "metadata": {},
     "output_type": "execute_result"
    }
   ],
   "source": [
    "def preorder(root, res):\n",
    "    if not root:\n",
    "        return 0\n",
    "\n",
    "    res.append(root.val)\n",
    "    preorder(root.left, res)\n",
    "    preorder(root.right, res)\n",
    "\n",
    "    return res   #  记得要return res\n",
    "\n",
    "res = []  # 要把list放在外面\n",
    "res = preorder(root, res)\n",
    "res\n"
   ]
  },
  {
   "cell_type": "code",
   "execution_count": 94,
   "metadata": {},
   "outputs": [
    {
     "data": {
      "text/plain": [
       "[2, -45, 55, 60, -80, 34, 180, 160, 150, 100, 90, 89, 10]"
      ]
     },
     "execution_count": 94,
     "metadata": {},
     "output_type": "execute_result"
    }
   ],
   "source": [
    "def postorder(root, res):\n",
    "    if not root:\n",
    "        return 0\n",
    "\n",
    "    postorder(root.left, res)\n",
    "    postorder(root.right, res)\n",
    "    res.append(root.val)\n",
    "\n",
    "    return res   #  记得要return res\n",
    "\n",
    "res = []  # 要把list放在外面\n",
    "res = postorder(root, res)\n",
    "res\n"
   ]
  },
  {
   "cell_type": "markdown",
   "metadata": {},
   "source": [
    "## iteration traverse"
   ]
  },
  {
   "cell_type": "code",
   "execution_count": 96,
   "metadata": {},
   "outputs": [
    {
     "data": {
      "text/plain": [
       "[10, 34, -45, 2, -80, 55, 60, 89, 90, 100, 150, 180, 160]"
      ]
     },
     "execution_count": 96,
     "metadata": {},
     "output_type": "execute_result"
    }
   ],
   "source": [
    "def preorder_iter_stack(root):   # preorder 最简单，唯一需要记住的是right，然后left, 每次res记录pop\n",
    "    res = []\n",
    "    stack = [root]\n",
    "\n",
    "    while stack:\n",
    "        pop = stack.pop()\n",
    "        res.append(pop.val)\n",
    "\n",
    "        if pop.right:\n",
    "            stack.append(pop.right)\n",
    "        if pop.left:\n",
    "            stack.append(pop.left)\n",
    "    \n",
    "    return res\n",
    "\n",
    "preorder_iter_stack(root)\n"
   ]
  },
  {
   "cell_type": "code",
   "execution_count": 100,
   "metadata": {},
   "outputs": [
    {
     "data": {
      "text/plain": [
       "[2, -45, 55, 60, -80, 34, 180, 160, 150, 100, 90, 89, 10]"
      ]
     },
     "execution_count": 100,
     "metadata": {},
     "output_type": "execute_result"
    }
   ],
   "source": [
    "def postorder_iter_stack(root):   # 和preorder几乎完全一样，唯一的区别是先left，后right，然后res最后需要把结果反过来\n",
    "    res = []\n",
    "    stack = [root]\n",
    "\n",
    "    while stack:\n",
    "        pop = stack.pop()\n",
    "        res.append(pop.val)\n",
    "        if pop.left:\n",
    "            stack.append(pop.left)\n",
    "        if pop.right:\n",
    "            stack.append(pop.right)\n",
    "\n",
    "    return res[::-1]\n",
    "\n",
    "postorder_iter_stack(root)"
   ]
  },
  {
   "cell_type": "code",
   "execution_count": 125,
   "metadata": {},
   "outputs": [
    {
     "name": "stdout",
     "output_type": "stream",
     "text": [
      "<__main__.TreeNode object at 0x106ab8190>\n",
      "None\n",
      "<__main__.TreeNode object at 0x106ab8070>\n",
      "None\n",
      "<__main__.TreeNode object at 0x106ab8250>\n",
      "None\n",
      "<__main__.TreeNode object at 0x106ab82b0>\n",
      "<__main__.TreeNode object at 0x106ab80d0>\n",
      "<__main__.TreeNode object at 0x106ab8310>\n",
      "<__main__.TreeNode object at 0x106ab83d0>\n",
      "None\n",
      "<__main__.TreeNode object at 0x106ab8430>\n",
      "None\n"
     ]
    },
    {
     "data": {
      "text/plain": [
       "[-45, 2, 34, 55, -80, 60, 10, 89, 90, 100, 180, 150, 160]"
      ]
     },
     "execution_count": 125,
     "metadata": {},
     "output_type": "execute_result"
    }
   ],
   "source": [
    "def inorder_iter_stack(root):   # 一直往左，一旦为null了，就开始pop，res记录pop，然后往右边走，继续一直往左\n",
    "    res = []\n",
    "    stack = []\n",
    "    curr = root\n",
    "\n",
    "    while curr or stack:\n",
    "        while curr:\n",
    "            stack.append(curr)\n",
    "            curr = curr.left\n",
    "        curr = stack.pop()\n",
    "        res.append(curr.val)\n",
    "        curr = curr.right\n",
    "        #print(curr)\n",
    "\n",
    "    return res\n",
    "\n",
    "inorder_iter_stack(root)"
   ]
  },
  {
   "cell_type": "code",
   "execution_count": null,
   "metadata": {},
   "outputs": [],
   "source": []
  },
  {
   "cell_type": "code",
   "execution_count": null,
   "metadata": {},
   "outputs": [],
   "source": []
  },
  {
   "cell_type": "markdown",
   "metadata": {},
   "source": [
    "# 以Post order为核心的问题"
   ]
  },
  {
   "cell_type": "code",
   "execution_count": 164,
   "metadata": {},
   "outputs": [
    {
     "name": "stdout",
     "output_type": "stream",
     "text": [
      "45 1\n",
      "55 1\n",
      "60 1\n",
      "50 2\n",
      "34 3\n",
      "180 1\n",
      "150 2\n",
      "100 3\n",
      "90 4\n",
      "89 5\n",
      "10 6\n"
     ]
    },
    {
     "data": {
      "text/plain": [
       "6"
      ]
     },
     "execution_count": 164,
     "metadata": {},
     "output_type": "execute_result"
    }
   ],
   "source": [
    "def max_depth(root):\n",
    "    if not root:\n",
    "        return 0     # 谈到depth的时候，要return 0\n",
    "\n",
    "    ld = max_depth(root.left)\n",
    "    rd = max_depth(root.right)\n",
    "\n",
    "    res = 1+max(ld, rd)\n",
    "    print(root.val, res)\n",
    "\n",
    "    return res\n",
    "\n",
    "depth_val = max_depth(root)\n",
    "depth_val\n"
   ]
  },
  {
   "cell_type": "code",
   "execution_count": 110,
   "metadata": {},
   "outputs": [
    {
     "name": "stdout",
     "output_type": "stream",
     "text": [
      "45 1\n",
      "55 1\n",
      "60 1\n",
      "50 2\n",
      "34 2\n",
      "150 1\n",
      "100 2\n",
      "90 3\n",
      "89 4\n",
      "10 3\n"
     ]
    },
    {
     "data": {
      "text/plain": [
       "3"
      ]
     },
     "execution_count": 110,
     "metadata": {},
     "output_type": "execute_result"
    }
   ],
   "source": [
    "def min_depth(root, res):\n",
    "    if not root:\n",
    "        return 0     # 谈到depth的时候，要return 0\n",
    "\n",
    "    ld = min_depth(root.left, res)\n",
    "    rd = min_depth(root.right, res)\n",
    "\n",
    "    if not root.left:\n",
    "        res = 1 + rd\n",
    "\n",
    "    elif not root.right:\n",
    "        res = 1 + ld\n",
    "        \n",
    "    else:\n",
    "        res = 1+min(ld, rd)\n",
    "    \n",
    "    #res.append(res)\n",
    "    print(root.val, res)\n",
    "\n",
    "    return res\n",
    "\n",
    "res = []\n",
    "result = min_depth(root, res)\n",
    "result"
   ]
  },
  {
   "cell_type": "code",
   "execution_count": 123,
   "metadata": {},
   "outputs": [
    {
     "data": {
      "text/plain": [
       "False"
      ]
     },
     "execution_count": 123,
     "metadata": {},
     "output_type": "execute_result"
    }
   ],
   "source": [
    "def check_balanced(root):\n",
    "    if not root:\n",
    "        return True     # 谈到depth的时候，要return 0\n",
    "\n",
    "    ld = check_balanced(root.left)\n",
    "    rd = check_balanced(root.right)\n",
    "\n",
    "    if not ld or not rd:\n",
    "        return False\n",
    "\n",
    "    if abs(ld - rd) > 1:\n",
    "        return False\n",
    "\n",
    "    return 1+max(ld, rd)\n",
    "\n",
    "check_balanced(root)"
   ]
  },
  {
   "cell_type": "code",
   "execution_count": 156,
   "metadata": {},
   "outputs": [
    {
     "name": "stdout",
     "output_type": "stream",
     "text": [
      "45 0\n",
      "55 0\n",
      "60 0\n",
      "50 2\n",
      "34 3\n",
      "180 3\n",
      "150 3\n",
      "100 3\n",
      "90 3\n",
      "89 4\n",
      "10 8\n"
     ]
    },
    {
     "data": {
      "text/plain": [
       "8"
      ]
     },
     "execution_count": 156,
     "metadata": {},
     "output_type": "execute_result"
    }
   ],
   "source": [
    "# def get_diameter(root, diameter):\n",
    "#     if not root:\n",
    "#         return 0\n",
    "\n",
    "#     l = get_diameter(root.left, diameter)\n",
    "#     r = get_diameter(root.right, diameter)\n",
    "\n",
    "#     max_d = l+r\n",
    "#     diameter = max(max_d, diameter)\n",
    "#     print(root.val, diameter)\n",
    "\n",
    "#     return 1+max(l, r)\n",
    "\n",
    "diameter = 0     # 可以通过function来改变外部parameter\n",
    "def get_diameter(root):\n",
    "    global diameter\n",
    "    if not root:\n",
    "        return 0\n",
    "\n",
    "    l = get_diameter(root.left)\n",
    "    r = get_diameter(root.right)\n",
    "\n",
    "    max_d = l+r\n",
    "    diameter = max(max_d, diameter)\n",
    "    print(root.val, diameter)\n",
    "\n",
    "    return 1+max(l, r)\n",
    "\n",
    "\n",
    "get_diameter(root)\n",
    "diameter\n"
   ]
  },
  {
   "cell_type": "code",
   "execution_count": 201,
   "metadata": {},
   "outputs": [
    {
     "name": "stdout",
     "output_type": "stream",
     "text": [
      "2 2\n",
      "-45 -43\n",
      "55 55\n",
      "60 60\n",
      "-80 -20\n",
      "34 34\n",
      "180 180\n",
      "160 160\n",
      "150 330\n",
      "100 430\n",
      "90 520\n",
      "89 609\n",
      "10 619\n"
     ]
    },
    {
     "data": {
      "text/plain": [
       "619"
      ]
     },
     "execution_count": 201,
     "metadata": {},
     "output_type": "execute_result"
    }
   ],
   "source": [
    "def max_path_sum(root):\n",
    "    if not root: return 0\n",
    "\n",
    "    # 不包括leaf node的情况\n",
    "    l = max(max_path_sum(root.left), 0)\n",
    "    r = max(max_path_sum(root.right), 0)\n",
    "\n",
    "    # 包括leaf node的情况\n",
    "    # l = max_path_sum(root.left)       \n",
    "    # r = max_path_sum(root.right)      \n",
    "\n",
    "    path_sum = root.val + max(l, r)     # 返回的不是level，而是path sum\n",
    "\n",
    "    print(root.val, path_sum)\n",
    "\n",
    "    return path_sum\n",
    "\n",
    "max_path_sum(root)\n"
   ]
  },
  {
   "cell_type": "code",
   "execution_count": 202,
   "metadata": {},
   "outputs": [
    {
     "name": "stdout",
     "output_type": "stream",
     "text": [
      "2\n",
      "55\n",
      "60\n",
      "180\n",
      "160\n"
     ]
    }
   ],
   "source": [
    "def print_leaf_node(root):   # pre order traverse\n",
    "    if not root:\n",
    "        return\n",
    "    if not root.left and not root.right:\n",
    "        print(root.val)\n",
    "    \n",
    "    print_leaf_node(root.left)\n",
    "    print_leaf_node(root.right)\n",
    "\n",
    "print_leaf_node(root)"
   ]
  },
  {
   "cell_type": "code",
   "execution_count": 203,
   "metadata": {},
   "outputs": [
    {
     "name": "stdout",
     "output_type": "stream",
     "text": [
      "-45\n",
      "34\n",
      "10\n"
     ]
    }
   ],
   "source": [
    "def print_left_boundry(root):      # left boundry\n",
    "    if not root:\n",
    "        return \n",
    "        \n",
    "    if root.left:   # 优先左半边\n",
    "        print_left_boundry(root.left) \n",
    "    elif root.right:   # 不行了才看右边\n",
    "        print_left_boundry(root.right)\n",
    "        \n",
    "    if root.left or root.right:     # 排除leafnode\n",
    "        print(root.val)\n",
    "\n",
    "\n",
    "print_left_boundry(root)"
   ]
  },
  {
   "cell_type": "code",
   "execution_count": 205,
   "metadata": {},
   "outputs": [
    {
     "name": "stdout",
     "output_type": "stream",
     "text": [
      "150\n",
      "100\n",
      "90\n",
      "89\n",
      "10\n"
     ]
    }
   ],
   "source": [
    "def print_right_boundry(root):      # right boundry\n",
    "    if not root:\n",
    "        return \n",
    "        \n",
    "    if root.right:     # 优先右半边\n",
    "        print_right_boundry(root.right) \n",
    "    elif root.left:     # 不行了才看左边\n",
    "        print_left_boundry(root.left)\n",
    "        \n",
    "    if root.left or root.right:     # 排除leafnode\n",
    "        print(root.val)\n",
    "\n",
    "\n",
    "print_right_boundry(root)"
   ]
  },
  {
   "cell_type": "markdown",
   "metadata": {},
   "source": [
    "print_root_to_node (inorder & preorder)"
   ]
  },
  {
   "cell_type": "code",
   "execution_count": 217,
   "metadata": {},
   "outputs": [
    {
     "name": "stdout",
     "output_type": "stream",
     "text": [
      "[10, 34, -45, 2]\n",
      "[10, 34, -80, 55]\n",
      "[10, 34, -80, 60]\n",
      "[10, 89, 90, 100, 150, 180]\n",
      "[10, 89, 90, 100, 150, 160]\n"
     ]
    }
   ],
   "source": [
    "res = []\n",
    "\n",
    "def print_root_to_node(root):\n",
    "    global res\n",
    "    if not root:\n",
    "        return \n",
    "\n",
    "    res.append(root.val)\n",
    "\n",
    "    # do something\n",
    "    print_root_to_node(root.left)    # 只要能往左就一定往左，否则就到下一个\n",
    "\n",
    "    # if not root.left and not root.right:   # 只是在leaf才print\n",
    "    #     print(res)\n",
    "\n",
    "    print_root_to_node(root.right)\n",
    "\n",
    "    if not root.left and not root.right:   # 只是在leaf才print\n",
    "        print(res)\n",
    "\n",
    "    res.pop()  # 左边走不了，右边走不了，就会pop\n",
    "\n",
    "\n",
    "print_root_to_node(root)"
   ]
  },
  {
   "cell_type": "markdown",
   "metadata": {},
   "source": [
    "## LCA问题 \n",
    "\n",
    "依然是基于post order\n",
    "\n",
    "lowest common ancester (lca)\n",
    "\n",
    "```python\n",
    "def lca():\n",
    "    1. stop condition, stop之后返回什么，可以是0，可以是true/false, 可以是root value...\n",
    "\n",
    "    2. \n",
    "    l = lca(root.left)\n",
    "    r = lca(root.right)\n",
    "\n",
    "    3.\n",
    "    integrate below value，stop condition的value就往上走，汇总两边信息的操作\n",
    "```    \n",
    "\n"
   ]
  },
  {
   "cell_type": "code",
   "execution_count": 246,
   "metadata": {},
   "outputs": [
    {
     "data": {
      "text/plain": [
       "10"
      ]
     },
     "execution_count": 246,
     "metadata": {},
     "output_type": "execute_result"
    }
   ],
   "source": [
    "p1, p2 = -80, 160\n",
    "#p1, p2 = 55, 60\n",
    "\n",
    "def lca(root, p1, p2):\n",
    "    # 停止条件，以及停止后的操作\n",
    "    if not root:\n",
    "        return root\n",
    "    if root.val == p1 or root.val == p2:   # 只有当遇到了指定的node，才会返回root\n",
    "        return root\n",
    "\n",
    "    # 遍历方向\n",
    "    l = lca(root.left, p1, p2)\n",
    "    r = lca(root.right, p1, p2)\n",
    "\n",
    "    # 回退之后，汇总两边信息的操作\n",
    "    if l and r:          # 如果l和r左右都存在，就说明这个root就是lca\n",
    "        return root.val\n",
    "    \n",
    "    if not l:       # 如果右边没传上来为空，就用左边的值\n",
    "        return r\n",
    "    \n",
    "    return l        # 如果左边传上来为空，就用右边的值\n",
    "\n",
    "lca(root, p1, p2)\n"
   ]
  },
  {
   "cell_type": "markdown",
   "metadata": {},
   "source": [
    "# BFS 问题"
   ]
  },
  {
   "cell_type": "code",
   "execution_count": 19,
   "metadata": {},
   "outputs": [
    {
     "name": "stdout",
     "output_type": "stream",
     "text": [
      "10\n",
      "34\n",
      "89\n",
      "-45\n",
      "-80\n",
      "90\n",
      "2\n",
      "55\n",
      "60\n",
      "100\n",
      "150\n",
      "180\n",
      "160\n"
     ]
    }
   ],
   "source": [
    "def bfs_as_a_whole(root):\n",
    "    q = [root]\n",
    "    while q:\n",
    "        for node in q:\n",
    "            q = q[1:]\n",
    "            if node:\n",
    "                print(node.val)\n",
    "                q.append(node.left)\n",
    "                q.append(node.right)\n",
    "\n",
    "bfs_as_a_whole(root)        "
   ]
  },
  {
   "cell_type": "code",
   "execution_count": 56,
   "metadata": {},
   "outputs": [
    {
     "data": {
      "text/plain": [
       "[[10], [34, 89], [-45, -80, 90], [2, 55, 60, 100], [150], [180, 160]]"
      ]
     },
     "execution_count": 56,
     "metadata": {},
     "output_type": "execute_result"
    }
   ],
   "source": [
    "def bfs_level_简易版(root):\n",
    "    q = [root]\n",
    "    res = []\n",
    "\n",
    "    while q:\n",
    "        level = []\n",
    "\n",
    "        for node in q:    \n",
    "            q = q[1:]      # 每次循环 pop leftmost\n",
    "    \n",
    "            if node:\n",
    "                #print(node.val)\n",
    "                level.append(node.val)\n",
    "                q.append(node.left)\n",
    "                q.append(node.right)\n",
    "\n",
    "        if level:\n",
    "            res.append(level)\n",
    "\n",
    "    return res\n",
    "\n",
    "bfs_level_简易版(root)        "
   ]
  },
  {
   "cell_type": "code",
   "execution_count": 57,
   "metadata": {},
   "outputs": [
    {
     "name": "stdout",
     "output_type": "stream",
     "text": [
      "1\n",
      "2\n",
      "4\n",
      "6\n",
      "8\n",
      "2\n",
      "4\n"
     ]
    },
    {
     "data": {
      "text/plain": [
       "[[10], [34, 89], [-45, -80, 90], [2, 55, 60, 100], [150], [180, 160]]"
      ]
     },
     "execution_count": 57,
     "metadata": {},
     "output_type": "execute_result"
    }
   ],
   "source": [
    "def bfs_level_啰嗦版(root):    # 啰嗦版考虑q的长度，但其实不必要\n",
    "    q = [root]\n",
    "    res = []\n",
    "\n",
    "    while q:\n",
    "        level = []\n",
    "        qLen = len(q)\n",
    "        print(qLen)\n",
    "        \n",
    "        for _ in range(qLen):\n",
    "            node = q[0]\n",
    "            q = q[1:]   # pop leftmost\n",
    "            if node:\n",
    "                level.append(node.val)\n",
    "                q.append(node.left)\n",
    "                q.append(node.right)\n",
    "\n",
    "        if level:\n",
    "            res.append(level)\n",
    "\n",
    "    return res\n",
    "\n",
    "bfs_level_啰嗦版(root)        "
   ]
  },
  {
   "cell_type": "code",
   "execution_count": 104,
   "metadata": {},
   "outputs": [
    {
     "data": {
      "text/plain": [
       "133"
      ]
     },
     "execution_count": 104,
     "metadata": {},
     "output_type": "execute_result"
    }
   ],
   "source": [
    "def sum_of_nodes(root, sum):\n",
    "    if not root: return 0\n",
    "\n",
    "    l = sum_of_nodes(root.left, sum)\n",
    "    r = sum_of_nodes(root.right, sum)\n",
    "\n",
    "    sum += root.val + l + r \n",
    "    return sum\n",
    "\n",
    "sum_of_nodes(root, 0)\n"
   ]
  },
  {
   "cell_type": "markdown",
   "metadata": {},
   "source": [
    "## 各种view of tree\n",
    "\n",
    "还是基于bfs，因为需要位置/coordinates"
   ]
  },
  {
   "cell_type": "code",
   "execution_count": 123,
   "metadata": {},
   "outputs": [
    {
     "data": {
      "text/plain": [
       "[(-2, -45), (-1, 34), (0, 10), (1, 89), (2, 90), (3, 100), (4, 150), (5, 160)]"
      ]
     },
     "execution_count": 123,
     "metadata": {},
     "output_type": "execute_result"
    }
   ],
   "source": [
    "def top_view_of_tree(root):\n",
    "    q = [[root, 0]]\n",
    "    res = {}\n",
    "\n",
    "    while q:\n",
    "        for item in q:\n",
    "            node = item[0]\n",
    "            node_pos = item[1]\n",
    "\n",
    "            q = q[1:]\n",
    "\n",
    "            if node:\n",
    "                if node_pos not in res:        # 我们只收集每个x坐标第一个出现的元素\n",
    "                    res[node_pos] = node.val\n",
    "\n",
    "                q.append([node.left, node_pos-1])\n",
    "                q.append([node.right, node_pos+1])\n",
    "    \n",
    "    return res\n",
    "\n",
    "output = top_view_of_tree(root)\n",
    "sorted(output.items(), key = lambda k: k[0])\n"
   ]
  },
  {
   "cell_type": "code",
   "execution_count": 125,
   "metadata": {},
   "outputs": [
    {
     "data": {
      "text/plain": [
       "[(-2, -45), (-1, 55), (0, -80), (1, 60), (2, 90), (3, 180), (4, 150), (5, 160)]"
      ]
     },
     "execution_count": 125,
     "metadata": {},
     "output_type": "execute_result"
    }
   ],
   "source": [
    "def bottom_view_of_tree(root):\n",
    "    q = [[root, 0]]\n",
    "    res = {}\n",
    "\n",
    "    while q:\n",
    "        for item in q:\n",
    "            node = item[0]\n",
    "            node_pos = item[1]\n",
    "\n",
    "            q = q[1:]\n",
    "\n",
    "            if node:\n",
    "                \n",
    "                res[node_pos] = node.val      # 和top view相反，我们只关心每个x坐标最后一次的元素\n",
    "\n",
    "                q.append([node.left, node_pos-1])\n",
    "                q.append([node.right, node_pos+1])\n",
    "    \n",
    "    return res\n",
    "\n",
    "output = bottom_view_of_tree(root)\n",
    "sorted(output.items(), key = lambda k: k[0])\n"
   ]
  },
  {
   "cell_type": "code",
   "execution_count": 130,
   "metadata": {},
   "outputs": [
    {
     "data": {
      "text/plain": [
       "[(-2, [-45]),\n",
       " (-1, [34, 2, 55]),\n",
       " (0, [10, -80]),\n",
       " (1, [89, 60]),\n",
       " (2, [90]),\n",
       " (3, [100, 180]),\n",
       " (4, [150]),\n",
       " (5, [160])]"
      ]
     },
     "execution_count": 130,
     "metadata": {},
     "output_type": "execute_result"
    }
   ],
   "source": [
    "def vertical_order_traversal(root):\n",
    "    q = [[root, 0]]\n",
    "    res = {}\n",
    "\n",
    "    while q:\n",
    "        for item in q:\n",
    "            node = item[0]    # node\n",
    "            node_pos = item[1]   # position or node\n",
    "\n",
    "            q = q[1:]\n",
    "\n",
    "            if node:\n",
    "                \n",
    "                if node_pos in res:\n",
    "                    res[node_pos].append(node.val)\n",
    "                    \n",
    "                else:\n",
    "                    res[node_pos] = [node.val]      # 和top view相反，我们只关心每个x坐标最后一次的元素\n",
    "\n",
    "                q.append([node.left, node_pos-1])\n",
    "                q.append([node.right, node_pos+1])\n",
    "    \n",
    "    return res\n",
    "\n",
    "output = vertical_order_traversal(root)\n",
    "sorted(output.items(), key = lambda k: k[0])\n"
   ]
  },
  {
   "cell_type": "markdown",
   "metadata": {},
   "source": [
    "# Binary Search Tree (BST)\n",
    "\n",
    "- 左边subtree全部小于node, 右边subtree全部大于node，这个特性在LCA问题尤为突出\n",
    "- BST还有一个很突出的特性的就是，**它的最大值一定在root node的最左边，它的最小值一定在root node的最右边**"
   ]
  },
  {
   "cell_type": "code",
   "execution_count": 77,
   "metadata": {},
   "outputs": [],
   "source": [
    "class TreeNode:\n",
    "   def __init__(self, val):\n",
    "      self.left = None\n",
    "      self.right = None\n",
    "      self.val = val\n",
    "\n",
    "# build a bst tree\n",
    "root = TreeNode(13)\n",
    "root.left = TreeNode(10)\n",
    "root.right = TreeNode(15)\n",
    "root.left.left = TreeNode(7)\n",
    "root.right.right = TreeNode(17)\n",
    "root.right.left = TreeNode(14)\n",
    "root.left.right = TreeNode(12)\n",
    "root.left.left.right = TreeNode(9)\n",
    "root.right.right.left = TreeNode(16)\n",
    "root.left.left.right.left = TreeNode(8)\n",
    "\n",
    "#                   13\n",
    "#            10          15\n",
    "#       7       12     14   17 \n",
    "#         9                16     \n",
    "#       8                                                          "
   ]
  },
  {
   "cell_type": "code",
   "execution_count": 69,
   "metadata": {},
   "outputs": [],
   "source": [
    "def inorder(root):\n",
    "\tif root:\n",
    "\t\tinorder(root.left)\n",
    "\t\tprint(root.val)\n",
    "\t\tinorder(root.right)"
   ]
  },
  {
   "cell_type": "code",
   "execution_count": 4,
   "metadata": {},
   "outputs": [
    {
     "data": {
      "text/plain": [
       "[7, 8, 9, 10, 12, 13, 14, 15, 16, 17]"
      ]
     },
     "execution_count": 4,
     "metadata": {},
     "output_type": "execute_result"
    }
   ],
   "source": [
    "res = []\n",
    "\n",
    "def inorder_asc(root, n):\n",
    "    global res, count, result\n",
    "    if not root:\n",
    "        return \n",
    "    \n",
    "    inorder_asc(root.left, n)\n",
    "    res.append(root.val)\n",
    "    inorder_asc(root.right, n)\n",
    "\n",
    "inorder_asc(root, 3)\n",
    "res"
   ]
  },
  {
   "cell_type": "code",
   "execution_count": 63,
   "metadata": {},
   "outputs": [
    {
     "data": {
      "text/plain": [
       "[17, 16, 15, 14, 13, 12, 10, 9, 8, 7]"
      ]
     },
     "execution_count": 63,
     "metadata": {},
     "output_type": "execute_result"
    }
   ],
   "source": [
    "res = []\n",
    "def inorder_desc(root):   # 倒序的话我们只需要调转顺序\n",
    "    global res\n",
    "    if not root:\n",
    "        return \n",
    "    \n",
    "    inorder_desc(root.right)\n",
    "    res.append(root.val)\n",
    "    inorder_desc(root.left)\n",
    "\n",
    "inorder_desc(root)\n",
    "res"
   ]
  },
  {
   "cell_type": "code",
   "execution_count": 17,
   "metadata": {},
   "outputs": [
    {
     "data": {
      "text/plain": [
       "7"
      ]
     },
     "execution_count": 17,
     "metadata": {},
     "output_type": "execute_result"
    }
   ],
   "source": [
    "def bst_search_iter(root, val):   # log 2 N\n",
    "\n",
    "    while root:\n",
    "        if root.val == val: \n",
    "            return root.val\n",
    "\n",
    "        elif root.val > val:\n",
    "            root = root.left\n",
    "        elif root.val < val:\n",
    "            root = root.right\n",
    "\n",
    "    return \"Cant find the val in the tree\"\n",
    "\n",
    "bst_search_iter(root, 7)    "
   ]
  },
  {
   "cell_type": "code",
   "execution_count": 30,
   "metadata": {},
   "outputs": [
    {
     "data": {
      "text/plain": [
       "'Not Found!'"
      ]
     },
     "execution_count": 30,
     "metadata": {},
     "output_type": "execute_result"
    }
   ],
   "source": [
    "def bst_search_recur(root, val):   # log 2 N\n",
    "\n",
    "    # 停止条件\n",
    "    if not root:\n",
    "        return \"Not Found!\"\n",
    "\n",
    "    if root.val == val:\n",
    "         return root.val\n",
    "\n",
    "    # recursion\n",
    "    if root.val > val:      # 搜寻左子树\n",
    "        return bst_search_recur(root.left, val)\n",
    "    \n",
    "    elif root.val < val:    # 搜寻右子树\n",
    "        return bst_search_recur(root.right, val)\n",
    "\n",
    "bst_search_recur(root, 7.5)    "
   ]
  },
  {
   "cell_type": "code",
   "execution_count": 15,
   "metadata": {},
   "outputs": [
    {
     "data": {
      "text/plain": [
       "16"
      ]
     },
     "execution_count": 15,
     "metadata": {},
     "output_type": "execute_result"
    }
   ],
   "source": [
    "def bst_ceil(root, val):     # ceil就是比val大，但是离val最近的数\n",
    "    ceil = -1\n",
    "    while root:     # 一直得动下去\n",
    "        if root.val == val: \n",
    "            return root.val\n",
    "\n",
    "        elif root.val > val:  \n",
    "            ceil = root.val   \n",
    "            root = root.left\n",
    "        elif root.val < val:\n",
    "            root = root.right\n",
    "\n",
    "    return ceil\n",
    "\n",
    "bst_ceil(root, 15.5)  "
   ]
  },
  {
   "cell_type": "code",
   "execution_count": 13,
   "metadata": {},
   "outputs": [
    {
     "data": {
      "text/plain": [
       "7"
      ]
     },
     "execution_count": 13,
     "metadata": {},
     "output_type": "execute_result"
    }
   ],
   "source": [
    "def bst_floor(root, val):       # floor就是比val小，但是离val最近的数\n",
    "    floor = -1\n",
    "    while root:\n",
    "        if root.val == val: \n",
    "            return root.val\n",
    "\n",
    "        elif root.val > val:\n",
    "            root = root.left\n",
    "            \n",
    "        elif root.val < val:\n",
    "            floor = root.val\n",
    "            root = root.right\n",
    "\n",
    "    return floor\n",
    "\n",
    "bst_floor(root, 7.5)    "
   ]
  },
  {
   "cell_type": "code",
   "execution_count": 42,
   "metadata": {},
   "outputs": [],
   "source": [
    "def bst_lca(root, p, q):   # bst lca的特性在于，只要是node.val在p，q之间，就是lca，\n",
    "    \n",
    "    # 停止条件\n",
    "    if not root:   # 端点\n",
    "        return \"No such LCA!\"\n",
    "\n",
    "    if root.val <= q and root.val >= p:    # 符合条件\n",
    "        return root.val\n",
    "\n",
    "    # recursion\n",
    "    if root.val < p:      \n",
    "        return bst_lca(root.right, p, q)    # 遍历右边的树\n",
    "    \n",
    "    if root.val > q:\n",
    "        return bst_lca(root.left, p, q)     # 遍历左边的树\n",
    "\n",
    "bst_lca(root, 14, 17)\n"
   ]
  },
  {
   "cell_type": "code",
   "execution_count": 56,
   "metadata": {},
   "outputs": [
    {
     "data": {
      "text/plain": [
       "False"
      ]
     },
     "execution_count": 56,
     "metadata": {},
     "output_type": "execute_result"
    }
   ],
   "source": [
    "def validate_bst(root, left, right):    # 必须要引用left和right，还是利用node大于左边子树，小于右边子树的性质\n",
    "    if not root: return True\n",
    "    if root.val > left or root.val < right: return False\n",
    "\n",
    "    l = validate_bst(root.left, left, root.val)    # 往root的左边走，root.val成了max，left min保持之前不变\n",
    "    r = validate_bst(root.right, root.val, right)    # 往root的右边走，root.val成了min，right max保持之前不变\n",
    "\n",
    "    return l & r\n",
    "\n",
    "validate_bst(root, -100000, 100000)"
   ]
  },
  {
   "cell_type": "code",
   "execution_count": 80,
   "metadata": {},
   "outputs": [
    {
     "data": {
      "text/plain": [
       "([7, 8, 9, 10, 12, 13, 14, 15, 16, 17], -1000000)"
      ]
     },
     "execution_count": 80,
     "metadata": {},
     "output_type": "execute_result"
    }
   ],
   "source": [
    "res = []\n",
    "count = 0\n",
    "result = -1000000\n",
    "def kth_smallest(root, n):     # 就是inorder + count\n",
    "    global res, count, result\n",
    "    if not root:\n",
    "        return \n",
    "    \n",
    "    inorder_asc(root.left, n)\n",
    "    count += 1\n",
    "    if count == n:\n",
    "        result = root.val\n",
    "    res.append(root.val)\n",
    "    inorder_asc(root.right, n)\n",
    "\n",
    "inorder_asc(root, 3)\n",
    "res, result"
   ]
  },
  {
   "cell_type": "code",
   "execution_count": 128,
   "metadata": {},
   "outputs": [],
   "source": [
    "#                   13\n",
    "#            10          15\n",
    "#       7       12     14   17 \n",
    "#         9                16     \n",
    "#       8                   "
   ]
  },
  {
   "cell_type": "code",
   "execution_count": 80,
   "metadata": {},
   "outputs": [
    {
     "name": "stdout",
     "output_type": "stream",
     "text": [
      "7\n",
      "8\n",
      "9\n",
      "10\n",
      "11\n",
      "12\n",
      "13\n",
      "14\n",
      "15\n",
      "16\n",
      "17\n"
     ]
    }
   ],
   "source": [
    "def insert_node(root, n):   # 如果val大于当前node,val，往右边遍历，右边为空则填上，左边亦然\n",
    "\n",
    "    if not root: return TreeNode(n)\n",
    "    \n",
    "    if n < root.val:\n",
    "        if not root.left:\n",
    "            root.left = TreeNode(n)\n",
    "        insert_node(root.left, n)\n",
    "        \n",
    "    elif n > root.val:\n",
    "        if not root.right:\n",
    "            root.right = TreeNode(n)\n",
    "        insert_node(root.right, n)\n",
    "    \n",
    "    return root\n",
    "\n",
    "# root = TreeNode(50)\n",
    "# root = insert_node(r, 30)\n",
    "# root = insert_node(r, 20)\n",
    "# root = insert_node(r, 40)\n",
    "# root = insert_node(r, 70)\n",
    "# root = insert_node(r, 60)\n",
    "# root = insert_node(r, 80)\n",
    "\n",
    "# Print inoder traversal of the BST\n",
    "root = insert_node(root, 11)\n",
    "inorder(root)\n"
   ]
  },
  {
   "cell_type": "code",
   "execution_count": 65,
   "metadata": {},
   "outputs": [
    {
     "name": "stdout",
     "output_type": "stream",
     "text": [
      "11\n",
      "13\n",
      "14\n",
      "15\n",
      "16\n",
      "17\n"
     ]
    }
   ],
   "source": [
    "def delete_node(root, n):   # 先找到这个value，然后分四种情况讨论，最复杂的两个chidlren都在，则需要找到右子树最小值，或者左子树最大值进补，再在子树中删除\n",
    "    \n",
    "    if not root:\n",
    "        return \n",
    "\n",
    "\n",
    "    if root.val == n:  # 如果遇到了相等的，则有四种情况，全空，左右空一个，或者左右子树都在\n",
    "        if not root.left and not root.right:\n",
    "            return None\n",
    "        \n",
    "        if not root.left and root.right:\n",
    "            return root.right\n",
    "        \n",
    "        if not root.right and root.left:\n",
    "            return root.left\n",
    "        \n",
    "        # 2 children，左右子树都在，则需要找到右子树的最小值，将root.val替换，再删除这个右子树的最小值\n",
    "        else:\n",
    "            # 先找到右子树的min value\n",
    "            curr = root.right\n",
    "            while curr.left: curr = curr.left\n",
    "            root.val = curr.val    # 将root的value替换，下一步call自己进行删除\n",
    "            root.right = delete_node(root.right, curr.val)\n",
    "\n",
    "\n",
    "    elif n > root.val:\n",
    "        root.right = delete_node(root.right, n)    # 由于是需要变换，所以要替换原subtree\n",
    "\n",
    "    elif n < root.val:\n",
    "        root.left = delete_node(root.left, n)\n",
    "\n",
    "    return root\n"
   ]
  },
  {
   "cell_type": "code",
   "execution_count": 82,
   "metadata": {},
   "outputs": [
    {
     "name": "stdout",
     "output_type": "stream",
     "text": [
      "7\n",
      "8\n",
      "9\n",
      "10\n",
      "11\n",
      "12\n",
      "13\n",
      "14\n",
      "15\n",
      "16\n",
      "17\n"
     ]
    }
   ],
   "source": []
  },
  {
   "cell_type": "code",
   "execution_count": null,
   "metadata": {},
   "outputs": [],
   "source": []
  },
  {
   "cell_type": "code",
   "execution_count": null,
   "metadata": {},
   "outputs": [],
   "source": []
  },
  {
   "cell_type": "code",
   "execution_count": null,
   "metadata": {},
   "outputs": [],
   "source": []
  },
  {
   "cell_type": "code",
   "execution_count": null,
   "metadata": {},
   "outputs": [],
   "source": []
  },
  {
   "cell_type": "code",
   "execution_count": null,
   "metadata": {},
   "outputs": [],
   "source": []
  },
  {
   "cell_type": "code",
   "execution_count": null,
   "metadata": {},
   "outputs": [],
   "source": []
  },
  {
   "cell_type": "code",
   "execution_count": null,
   "metadata": {},
   "outputs": [],
   "source": []
  },
  {
   "cell_type": "code",
   "execution_count": null,
   "metadata": {},
   "outputs": [],
   "source": []
  },
  {
   "cell_type": "code",
   "execution_count": null,
   "metadata": {},
   "outputs": [],
   "source": []
  },
  {
   "cell_type": "code",
   "execution_count": null,
   "metadata": {},
   "outputs": [],
   "source": []
  },
  {
   "cell_type": "code",
   "execution_count": null,
   "metadata": {},
   "outputs": [],
   "source": []
  },
  {
   "cell_type": "code",
   "execution_count": null,
   "metadata": {},
   "outputs": [],
   "source": []
  },
  {
   "cell_type": "code",
   "execution_count": null,
   "metadata": {},
   "outputs": [],
   "source": []
  },
  {
   "cell_type": "code",
   "execution_count": null,
   "metadata": {},
   "outputs": [],
   "source": []
  },
  {
   "cell_type": "code",
   "execution_count": null,
   "metadata": {},
   "outputs": [],
   "source": []
  },
  {
   "cell_type": "code",
   "execution_count": null,
   "metadata": {},
   "outputs": [],
   "source": []
  },
  {
   "cell_type": "code",
   "execution_count": null,
   "metadata": {},
   "outputs": [],
   "source": []
  },
  {
   "cell_type": "code",
   "execution_count": null,
   "metadata": {},
   "outputs": [],
   "source": []
  }
 ],
 "metadata": {
  "interpreter": {
   "hash": "ca5a5145015713f93cd3db62eb3c0235a1e332f721927a1224645606c1eff341"
  },
  "kernelspec": {
   "display_name": "Python 3.9.13 ('myenv': venv)",
   "language": "python",
   "name": "python3"
  },
  "language_info": {
   "codemirror_mode": {
    "name": "ipython",
    "version": 3
   },
   "file_extension": ".py",
   "mimetype": "text/x-python",
   "name": "python",
   "nbconvert_exporter": "python",
   "pygments_lexer": "ipython3",
   "version": "3.9.13 (main, May 24 2022, 21:13:51) \n[Clang 13.1.6 (clang-1316.0.21.2)]"
  },
  "orig_nbformat": 4
 },
 "nbformat": 4,
 "nbformat_minor": 2
}
