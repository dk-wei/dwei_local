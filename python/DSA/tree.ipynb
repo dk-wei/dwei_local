{
 "cells": [
  {
   "cell_type": "markdown",
   "metadata": {},
   "source": [
    "# initialte a tree"
   ]
  },
  {
   "cell_type": "markdown",
   "metadata": {},
   "source": [
    "- 推荐视频\n",
    "1. take u forward\n",
    "2. Vivekanand - Algorithm Every Day\n",
    "\n",
    "- 配合食用：\n",
    "\n",
    "https://docs.google.com/spreadsheets/d/15hUq0deBQxFYfU5z0YGh82tILUvCOPpi/edit#gid=1270736061"
   ]
  },
  {
   "cell_type": "code",
   "execution_count": 231,
   "metadata": {},
   "outputs": [],
   "source": [
    "class TreeNode:\n",
    "   def __init__(self, val):\n",
    "      self.left = None\n",
    "      self.right = None\n",
    "      self.val = val\n",
    "\n",
    "# build a tree\n",
    "root = TreeNode(10)\n",
    "root.left = TreeNode(34)\n",
    "root.right = TreeNode(89)\n",
    "root.right.right = TreeNode(90)\n",
    "root.left.left = TreeNode(-45)\n",
    "root.left.left.right = TreeNode(2)\n",
    "root.left.right = TreeNode(-80)\n",
    "root.left.right.left = TreeNode(55)\n",
    "root.left.right.right = TreeNode(60)\n",
    "root.right.right.right = TreeNode(100)\n",
    "root.right.right.right.right = TreeNode(150)\n",
    "root.right.right.right.right.right = TreeNode(160)\n",
    "root.right.right.right.right.left = TreeNode(180)\n",
    "\n",
    "#                   10\n",
    "#            34          89\n",
    "#   -45       -80            90 \n",
    "#       2   55    60             100\n",
    "#                                    150\n",
    "#                                 160    180"
   ]
  },
  {
   "cell_type": "code",
   "execution_count": 71,
   "metadata": {},
   "outputs": [
    {
     "data": {
      "text/plain": [
       "[10, 34, 45, 50, 55, 60, 89, 90, 100, 150]"
      ]
     },
     "execution_count": 71,
     "metadata": {},
     "output_type": "execute_result"
    }
   ],
   "source": [
    "def preorder(root, res):\n",
    "    if not root:\n",
    "        return 0\n",
    "\n",
    "    res.append(root.val)\n",
    "    preorder(root.left, res)\n",
    "    preorder(root.right, res)\n",
    "\n",
    "    return res   #  记得要return res\n",
    "\n",
    "res = []  # 要把list放在外面\n",
    "res = preorder(root, res)\n",
    "res\n"
   ]
  },
  {
   "cell_type": "code",
   "execution_count": 93,
   "metadata": {},
   "outputs": [
    {
     "data": {
      "text/plain": [
       "[45, 55, 60, 50, 34, 150, 100, 90, 89, 10]"
      ]
     },
     "execution_count": 93,
     "metadata": {},
     "output_type": "execute_result"
    }
   ],
   "source": [
    "def postorder(root, res):\n",
    "    if not root:\n",
    "        return 0\n",
    "\n",
    "    postorder(root.left, res)\n",
    "    postorder(root.right, res)\n",
    "    res.append(root.val)\n",
    "\n",
    "    return res   #  记得要return res\n",
    "\n",
    "res = []  # 要把list放在外面\n",
    "res = postorder(root, res)\n",
    "res\n"
   ]
  },
  {
   "cell_type": "code",
   "execution_count": 164,
   "metadata": {},
   "outputs": [
    {
     "name": "stdout",
     "output_type": "stream",
     "text": [
      "45 1\n",
      "55 1\n",
      "60 1\n",
      "50 2\n",
      "34 3\n",
      "180 1\n",
      "150 2\n",
      "100 3\n",
      "90 4\n",
      "89 5\n",
      "10 6\n"
     ]
    },
    {
     "data": {
      "text/plain": [
       "6"
      ]
     },
     "execution_count": 164,
     "metadata": {},
     "output_type": "execute_result"
    }
   ],
   "source": [
    "def max_depth(root):\n",
    "    if not root:\n",
    "        return 0     # 谈到depth的时候，要return 0\n",
    "\n",
    "    ld = max_depth(root.left)\n",
    "    rd = max_depth(root.right)\n",
    "\n",
    "    res = 1+max(ld, rd)\n",
    "    print(root.val, res)\n",
    "\n",
    "    return res\n",
    "\n",
    "depth_val = max_depth(root)\n",
    "depth_val\n"
   ]
  },
  {
   "cell_type": "code",
   "execution_count": 110,
   "metadata": {},
   "outputs": [
    {
     "name": "stdout",
     "output_type": "stream",
     "text": [
      "45 1\n",
      "55 1\n",
      "60 1\n",
      "50 2\n",
      "34 2\n",
      "150 1\n",
      "100 2\n",
      "90 3\n",
      "89 4\n",
      "10 3\n"
     ]
    },
    {
     "data": {
      "text/plain": [
       "3"
      ]
     },
     "execution_count": 110,
     "metadata": {},
     "output_type": "execute_result"
    }
   ],
   "source": [
    "def min_depth(root, res):\n",
    "    if not root:\n",
    "        return 0     # 谈到depth的时候，要return 0\n",
    "\n",
    "    ld = min_depth(root.left, res)\n",
    "    rd = min_depth(root.right, res)\n",
    "\n",
    "    if not root.left:\n",
    "        res = 1 + rd\n",
    "\n",
    "    elif not root.right:\n",
    "        res = 1 + ld\n",
    "        \n",
    "    else:\n",
    "        res = 1+min(ld, rd)\n",
    "    \n",
    "    #res.append(res)\n",
    "    print(root.val, res)\n",
    "\n",
    "    return res\n",
    "\n",
    "res = []\n",
    "result = min_depth(root, res)\n",
    "result"
   ]
  },
  {
   "cell_type": "code",
   "execution_count": 123,
   "metadata": {},
   "outputs": [
    {
     "data": {
      "text/plain": [
       "False"
      ]
     },
     "execution_count": 123,
     "metadata": {},
     "output_type": "execute_result"
    }
   ],
   "source": [
    "def check_balanced(root):\n",
    "    if not root:\n",
    "        return True     # 谈到depth的时候，要return 0\n",
    "\n",
    "    ld = check_balanced(root.left)\n",
    "    rd = check_balanced(root.right)\n",
    "\n",
    "    if not ld or not rd:\n",
    "        return False\n",
    "\n",
    "    if abs(ld - rd) > 1:\n",
    "        return False\n",
    "\n",
    "    return 1+max(ld, rd)\n",
    "\n",
    "check_balanced(root)"
   ]
  },
  {
   "cell_type": "code",
   "execution_count": 156,
   "metadata": {},
   "outputs": [
    {
     "name": "stdout",
     "output_type": "stream",
     "text": [
      "45 0\n",
      "55 0\n",
      "60 0\n",
      "50 2\n",
      "34 3\n",
      "180 3\n",
      "150 3\n",
      "100 3\n",
      "90 3\n",
      "89 4\n",
      "10 8\n"
     ]
    },
    {
     "data": {
      "text/plain": [
       "8"
      ]
     },
     "execution_count": 156,
     "metadata": {},
     "output_type": "execute_result"
    }
   ],
   "source": [
    "# def get_diameter(root, diameter):\n",
    "#     if not root:\n",
    "#         return 0\n",
    "\n",
    "#     l = get_diameter(root.left, diameter)\n",
    "#     r = get_diameter(root.right, diameter)\n",
    "\n",
    "#     max_d = l+r\n",
    "#     diameter = max(max_d, diameter)\n",
    "#     print(root.val, diameter)\n",
    "\n",
    "#     return 1+max(l, r)\n",
    "\n",
    "diameter = 0     # 可以通过function来改变外部parameter\n",
    "def get_diameter(root):\n",
    "    global diameter\n",
    "    if not root:\n",
    "        return 0\n",
    "\n",
    "    l = get_diameter(root.left)\n",
    "    r = get_diameter(root.right)\n",
    "\n",
    "    max_d = l+r\n",
    "    diameter = max(max_d, diameter)\n",
    "    print(root.val, diameter)\n",
    "\n",
    "    return 1+max(l, r)\n",
    "\n",
    "\n",
    "get_diameter(root)\n",
    "diameter\n"
   ]
  },
  {
   "cell_type": "code",
   "execution_count": 201,
   "metadata": {},
   "outputs": [
    {
     "name": "stdout",
     "output_type": "stream",
     "text": [
      "2 2\n",
      "-45 -43\n",
      "55 55\n",
      "60 60\n",
      "-80 -20\n",
      "34 34\n",
      "180 180\n",
      "160 160\n",
      "150 330\n",
      "100 430\n",
      "90 520\n",
      "89 609\n",
      "10 619\n"
     ]
    },
    {
     "data": {
      "text/plain": [
       "619"
      ]
     },
     "execution_count": 201,
     "metadata": {},
     "output_type": "execute_result"
    }
   ],
   "source": [
    "def max_path_sum(root):\n",
    "    if not root: return 0\n",
    "\n",
    "    # 不包括leaf node的情况\n",
    "    l = max(max_path_sum(root.left), 0)\n",
    "    r = max(max_path_sum(root.right), 0)\n",
    "\n",
    "    # 包括leaf node的情况\n",
    "    # l = max_path_sum(root.left)       \n",
    "    # r = max_path_sum(root.right)      \n",
    "\n",
    "    path_sum = root.val + max(l, r)     # 返回的不是level，而是path sum\n",
    "\n",
    "    print(root.val, path_sum)\n",
    "\n",
    "    return path_sum\n",
    "\n",
    "max_path_sum(root)\n"
   ]
  },
  {
   "cell_type": "code",
   "execution_count": 202,
   "metadata": {},
   "outputs": [
    {
     "name": "stdout",
     "output_type": "stream",
     "text": [
      "2\n",
      "55\n",
      "60\n",
      "180\n",
      "160\n"
     ]
    }
   ],
   "source": [
    "def print_leaf_node(root):   # pre order traverse\n",
    "    if not root:\n",
    "        return\n",
    "    if not root.left and not root.right:\n",
    "        print(root.val)\n",
    "    \n",
    "    print_leaf_node(root.left)\n",
    "    print_leaf_node(root.right)\n",
    "\n",
    "print_leaf_node(root)"
   ]
  },
  {
   "cell_type": "code",
   "execution_count": 203,
   "metadata": {},
   "outputs": [
    {
     "name": "stdout",
     "output_type": "stream",
     "text": [
      "-45\n",
      "34\n",
      "10\n"
     ]
    }
   ],
   "source": [
    "def print_left_boundry(root):      # left boundry\n",
    "    if not root:\n",
    "        return \n",
    "        \n",
    "    if root.left:   # 优先左半边\n",
    "        print_left_boundry(root.left) \n",
    "    elif root.right:   # 不行了才看右边\n",
    "        print_left_boundry(root.right)\n",
    "        \n",
    "    if root.left or root.right:     # 排除leafnode\n",
    "        print(root.val)\n",
    "\n",
    "\n",
    "print_left_boundry(root)"
   ]
  },
  {
   "cell_type": "code",
   "execution_count": 205,
   "metadata": {},
   "outputs": [
    {
     "name": "stdout",
     "output_type": "stream",
     "text": [
      "150\n",
      "100\n",
      "90\n",
      "89\n",
      "10\n"
     ]
    }
   ],
   "source": [
    "def print_right_boundry(root):      # right boundry\n",
    "    if not root:\n",
    "        return \n",
    "        \n",
    "    if root.right:     # 优先右半边\n",
    "        print_right_boundry(root.right) \n",
    "    elif root.left:     # 不行了才看左边\n",
    "        print_left_boundry(root.left)\n",
    "        \n",
    "    if root.left or root.right:     # 排除leafnode\n",
    "        print(root.val)\n",
    "\n",
    "\n",
    "print_right_boundry(root)"
   ]
  },
  {
   "cell_type": "markdown",
   "metadata": {},
   "source": [
    "print_root_to_node (inorder & preorder)"
   ]
  },
  {
   "cell_type": "code",
   "execution_count": 217,
   "metadata": {},
   "outputs": [
    {
     "name": "stdout",
     "output_type": "stream",
     "text": [
      "[10, 34, -45, 2]\n",
      "[10, 34, -80, 55]\n",
      "[10, 34, -80, 60]\n",
      "[10, 89, 90, 100, 150, 180]\n",
      "[10, 89, 90, 100, 150, 160]\n"
     ]
    }
   ],
   "source": [
    "res = []\n",
    "\n",
    "def print_root_to_node(root):\n",
    "    global res\n",
    "    if not root:\n",
    "        return \n",
    "\n",
    "    res.append(root.val)\n",
    "\n",
    "    # do something\n",
    "    print_root_to_node(root.left)    # 只要能往左就一定往左，否则就到下一个\n",
    "\n",
    "    # if not root.left and not root.right:   # 只是在leaf才print\n",
    "    #     print(res)\n",
    "\n",
    "    print_root_to_node(root.right)\n",
    "\n",
    "    if not root.left and not root.right:   # 只是在leaf才print\n",
    "        print(res)\n",
    "\n",
    "    res.pop()  # 左边走不了，右边走不了，就会pop\n",
    "\n",
    "\n",
    "print_root_to_node(root)"
   ]
  },
  {
   "cell_type": "markdown",
   "metadata": {},
   "source": [
    "lowest common ancester (lca)\n",
    "\n",
    "```python\n",
    "def lca():\n",
    "    1. stop condition, stop之后返回什么，可以是0，可以是true/false, 可以是root value...\n",
    "\n",
    "    2. \n",
    "    l = lca(root.left)\n",
    "    r = lca(root.right)\n",
    "\n",
    "    3.\n",
    "    integrate below value，stop condition的value就网上走\n",
    "```    \n",
    "\n"
   ]
  },
  {
   "cell_type": "code",
   "execution_count": 246,
   "metadata": {},
   "outputs": [
    {
     "data": {
      "text/plain": [
       "10"
      ]
     },
     "execution_count": 246,
     "metadata": {},
     "output_type": "execute_result"
    }
   ],
   "source": [
    "p1, p2 = -80, 160\n",
    "#p1, p2 = 55, 60\n",
    "\n",
    "def lca(root, p1, p2):\n",
    "    # 停止条件，以及停止后的操作\n",
    "    if not root:\n",
    "        return root\n",
    "    if root.val == p1 or root.val == p2:   # 只有当遇到了指定的node，才会返回root\n",
    "        return root\n",
    "\n",
    "    # 遍历方向\n",
    "    l = lca(root.left, p1, p2)\n",
    "    r = lca(root.right, p1, p2)\n",
    "\n",
    "    # 回退之后，往上的操作\n",
    "    if l and r:          # 如果l和r左右都存在，就说明这个root就是lca\n",
    "        return root.val\n",
    "    \n",
    "    if not l:       # 如果右边没有，就用左边的值\n",
    "        return r\n",
    "    \n",
    "    return l        # 如果左边没有，就是左边\n",
    "\n",
    "lca(root, p1, p2)\n"
   ]
  },
  {
   "cell_type": "code",
   "execution_count": null,
   "metadata": {},
   "outputs": [],
   "source": []
  },
  {
   "cell_type": "code",
   "execution_count": null,
   "metadata": {},
   "outputs": [],
   "source": []
  },
  {
   "cell_type": "code",
   "execution_count": null,
   "metadata": {},
   "outputs": [],
   "source": []
  },
  {
   "cell_type": "code",
   "execution_count": null,
   "metadata": {},
   "outputs": [],
   "source": []
  },
  {
   "cell_type": "code",
   "execution_count": null,
   "metadata": {},
   "outputs": [],
   "source": []
  },
  {
   "cell_type": "code",
   "execution_count": null,
   "metadata": {},
   "outputs": [],
   "source": []
  },
  {
   "cell_type": "code",
   "execution_count": null,
   "metadata": {},
   "outputs": [],
   "source": []
  }
 ],
 "metadata": {
  "interpreter": {
   "hash": "ca5a5145015713f93cd3db62eb3c0235a1e332f721927a1224645606c1eff341"
  },
  "kernelspec": {
   "display_name": "Python 3.9.13 ('myenv': venv)",
   "language": "python",
   "name": "python3"
  },
  "language_info": {
   "codemirror_mode": {
    "name": "ipython",
    "version": 3
   },
   "file_extension": ".py",
   "mimetype": "text/x-python",
   "name": "python",
   "nbconvert_exporter": "python",
   "pygments_lexer": "ipython3",
   "version": "3.9.13"
  },
  "orig_nbformat": 4
 },
 "nbformat": 4,
 "nbformat_minor": 2
}
