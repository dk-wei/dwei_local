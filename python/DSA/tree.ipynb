{
 "cells": [
  {
   "cell_type": "markdown",
   "metadata": {},
   "source": [
    "# initialte a tree"
   ]
  },
  {
   "cell_type": "markdown",
   "metadata": {},
   "source": [
    "配合食用：\n",
    "\n",
    "https://docs.google.com/spreadsheets/d/15hUq0deBQxFYfU5z0YGh82tILUvCOPpi/edit#gid=1270736061"
   ]
  },
  {
   "cell_type": "code",
   "execution_count": 109,
   "metadata": {},
   "outputs": [],
   "source": [
    "class TreeNode:\n",
    "   def __init__(self, val):\n",
    "      self.left = None\n",
    "      self.right = None\n",
    "      self.val = val\n",
    "\n",
    "# build a tree\n",
    "root = TreeNode(10)\n",
    "root.left = TreeNode(34)\n",
    "root.right = TreeNode(89)\n",
    "root.right.right = TreeNode(90)\n",
    "root.left.left = TreeNode(45)\n",
    "root.left.right = TreeNode(50)\n",
    "root.left.right.left = TreeNode(55)\n",
    "root.left.right.right = TreeNode(60)\n",
    "root.right.right.right = TreeNode(100)\n",
    "root.right.right.right.right = TreeNode(150)\n",
    "\n",
    "#                   10\n",
    "#            34          89\n",
    "#     45         50            90 \n",
    "#             55     60            100\n",
    "#                                      150"
   ]
  },
  {
   "cell_type": "code",
   "execution_count": 71,
   "metadata": {},
   "outputs": [
    {
     "data": {
      "text/plain": [
       "[10, 34, 45, 50, 55, 60, 89, 90, 100, 150]"
      ]
     },
     "execution_count": 71,
     "metadata": {},
     "output_type": "execute_result"
    }
   ],
   "source": [
    "def preorder(root, res):\n",
    "    if not root:\n",
    "        return 0\n",
    "\n",
    "    res.append(root.val)\n",
    "    preorder(root.left, res)\n",
    "    preorder(root.right, res)\n",
    "\n",
    "    return res   #  记得要return res\n",
    "\n",
    "res = []  # 要把list放在外面\n",
    "res = preorder(root, res)\n",
    "res\n"
   ]
  },
  {
   "cell_type": "code",
   "execution_count": 93,
   "metadata": {},
   "outputs": [
    {
     "data": {
      "text/plain": [
       "[45, 55, 60, 50, 34, 150, 100, 90, 89, 10]"
      ]
     },
     "execution_count": 93,
     "metadata": {},
     "output_type": "execute_result"
    }
   ],
   "source": [
    "def postorder(root, res):\n",
    "    if not root:\n",
    "        return 0\n",
    "\n",
    "    postorder(root.left, res)\n",
    "    postorder(root.right, res)\n",
    "    res.append(root.val)\n",
    "\n",
    "    return res   #  记得要return res\n",
    "\n",
    "res = []  # 要把list放在外面\n",
    "res = postorder(root, res)\n",
    "res\n"
   ]
  },
  {
   "cell_type": "code",
   "execution_count": 101,
   "metadata": {},
   "outputs": [
    {
     "name": "stdout",
     "output_type": "stream",
     "text": [
      "45 1\n",
      "55 1\n",
      "60 1\n",
      "50 2\n",
      "34 3\n",
      "150 1\n",
      "100 2\n",
      "90 3\n",
      "89 4\n",
      "10 5\n"
     ]
    },
    {
     "data": {
      "text/plain": [
       "5"
      ]
     },
     "execution_count": 101,
     "metadata": {},
     "output_type": "execute_result"
    }
   ],
   "source": [
    "def max_depth(root):\n",
    "    if not root:\n",
    "        return 0     # 谈到depth的时候，要return 0\n",
    "\n",
    "    ld = max_depth(root.left)\n",
    "    rd = max_depth(root.right)\n",
    "\n",
    "    res = 1+max(ld, rd)\n",
    "    print(root.val, res)\n",
    "\n",
    "    return res\n",
    "\n",
    "depth_val = max_depth(root)\n",
    "depth_val\n"
   ]
  },
  {
   "cell_type": "code",
   "execution_count": 110,
   "metadata": {},
   "outputs": [
    {
     "name": "stdout",
     "output_type": "stream",
     "text": [
      "45 1\n",
      "55 1\n",
      "60 1\n",
      "50 2\n",
      "34 2\n",
      "150 1\n",
      "100 2\n",
      "90 3\n",
      "89 4\n",
      "10 3\n"
     ]
    },
    {
     "data": {
      "text/plain": [
       "3"
      ]
     },
     "execution_count": 110,
     "metadata": {},
     "output_type": "execute_result"
    }
   ],
   "source": [
    "def min_depth(root, res):\n",
    "    if not root:\n",
    "        return 0     # 谈到depth的时候，要return 0\n",
    "\n",
    "    ld = min_depth(root.left, res)\n",
    "    rd = min_depth(root.right, res)\n",
    "\n",
    "    if not root.left:\n",
    "        res = 1 + rd\n",
    "\n",
    "    elif not root.right:\n",
    "        res = 1 + ld\n",
    "        \n",
    "    else:\n",
    "        res = 1+min(ld, rd)\n",
    "    \n",
    "    #res.append(res)\n",
    "    print(root.val, res)\n",
    "\n",
    "    return res\n",
    "\n",
    "res = []\n",
    "result = min_depth(root, res)\n",
    "result"
   ]
  },
  {
   "cell_type": "code",
   "execution_count": null,
   "metadata": {},
   "outputs": [],
   "source": []
  },
  {
   "cell_type": "code",
   "execution_count": null,
   "metadata": {},
   "outputs": [],
   "source": []
  },
  {
   "cell_type": "code",
   "execution_count": null,
   "metadata": {},
   "outputs": [],
   "source": []
  },
  {
   "cell_type": "code",
   "execution_count": null,
   "metadata": {},
   "outputs": [],
   "source": []
  },
  {
   "cell_type": "code",
   "execution_count": null,
   "metadata": {},
   "outputs": [],
   "source": []
  },
  {
   "cell_type": "code",
   "execution_count": null,
   "metadata": {},
   "outputs": [],
   "source": []
  },
  {
   "cell_type": "code",
   "execution_count": null,
   "metadata": {},
   "outputs": [],
   "source": []
  }
 ],
 "metadata": {
  "interpreter": {
   "hash": "ca5a5145015713f93cd3db62eb3c0235a1e332f721927a1224645606c1eff341"
  },
  "kernelspec": {
   "display_name": "Python 3.9.13 ('myenv': venv)",
   "language": "python",
   "name": "python3"
  },
  "language_info": {
   "codemirror_mode": {
    "name": "ipython",
    "version": 3
   },
   "file_extension": ".py",
   "mimetype": "text/x-python",
   "name": "python",
   "nbconvert_exporter": "python",
   "pygments_lexer": "ipython3",
   "version": "3.9.13"
  },
  "orig_nbformat": 4
 },
 "nbformat": 4,
 "nbformat_minor": 2
}
